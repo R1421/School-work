{
 "cells": [
  {
   "cell_type": "code",
   "execution_count": 238,
   "metadata": {
    "collapsed": false,
    "scrolled": false
   },
   "outputs": [
    {
     "name": "stdout",
     "output_type": "stream",
     "text": [
      "[-0.09286717 -1.74746158  0.47179745]\n",
      "[ 19.90713283  -1.74746158   0.47179745]\n",
      "8\n"
     ]
    }
   ],
   "source": [
    "import numpy as np\n",
    "#Create points for Xanadu and Ypsilon\n",
    "X = np.random.randn(100,3)\n",
    "Y = np.random.randn(200,3)\n",
    "print(Y[3,:])\n",
    "d = 20\n",
    "Y[:,0] += d\n",
    "\n",
    "print(Y[3,:])\n",
    "\n",
    "#Build A\n",
    "A = np.matrix([[0. for i in range(0,200)] for i in range(0,300)])\n",
    "for col in range(0,200):\n",
    "    y = Y[col,:]\n",
    "    for row in range(0,100):\n",
    "        x = X[row,:]\n",
    "        A[3*row:3*row+3,col] = np.reshape((y-x)/np.linalg.norm(y-x)**3,(3,1))\n",
    "\n",
    "U,S,V = np.linalg.svd(A, full_matrices=0)\n",
    "x = 1\n",
    "D = np.diag(S)\n",
    "normA = np.linalg.norm(A)\n",
    "while x <= 200:\n",
    "    Ap = U[:,:x].dot(D[:x,:x]).dot(V[:x,:])\n",
    "    err = np.linalg.norm(Ap - A, np.inf)\n",
    "    #print(err)\n",
    "    if(err <= 1e-5):\n",
    "        break\n",
    "    x += 1\n",
    "        \n",
    "print(x-1)"
   ]
  },
  {
   "cell_type": "code",
   "execution_count": 198,
   "metadata": {
    "collapsed": false
   },
   "outputs": [
    {
     "name": "stdout",
     "output_type": "stream",
     "text": [
      "2.7076964791e+16\n",
      "Q norm = 2.894208e-02\n",
      "R norm = 5.615952e-04\n",
      "A norm = 5.284530e-16\n"
     ]
    }
   ],
   "source": [
    "R = np.triu(np.random.randn(50,50))\n",
    "Q, a = np.linalg.qr(np.random.randn(50,50))\n",
    "A = Q.dot(R)\n",
    "print(np.linalg.cond(A))\n",
    "Q2, R2 = np.linalg.qr(A)\n",
    "print(\"Q norm = %e\" % np.linalg.norm(Q2-Q))\n",
    "print(\"R norm = %e\" % (np.linalg.norm(R2-R)/np.linalg.norm(R)))\n",
    "print(\"A norm = %e\" % (np.linalg.norm(Q2.dot(R2) - A)/np.linalg.norm(A)))"
   ]
  }
 ],
 "metadata": {
  "anaconda-cloud": {},
  "kernelspec": {
   "display_name": "Python [Root]",
   "language": "python",
   "name": "Python [Root]"
  },
  "language_info": {
   "codemirror_mode": {
    "name": "ipython",
    "version": 3
   },
   "file_extension": ".py",
   "mimetype": "text/x-python",
   "name": "python",
   "nbconvert_exporter": "python",
   "pygments_lexer": "ipython3",
   "version": "3.5.2"
  }
 },
 "nbformat": 4,
 "nbformat_minor": 0
}
