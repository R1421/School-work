{
 "cells": [
  {
   "cell_type": "code",
   "execution_count": 2,
   "metadata": {
    "collapsed": true
   },
   "outputs": [],
   "source": [
    "import numpy as np \n",
    "\n",
    "kINSP = np.array([(1, 8, +1),\n",
    "               (7, 2, -1),\n",
    "               (6, -1, -1),\n",
    "               (-5, 0, +1),\n",
    "               (-5, 1, -1),\n",
    "               (-5, 2, +1),\n",
    "               (6, 3, +1),\n",
    "               (6, 1, -1),\n",
    "               (5, 2, -1)])\n",
    "\n",
    "kSEP = np.array([(-2, 2, +1),    # 0 - A\n",
    "              (0, 4, +1),     # 1 - B\n",
    "              (2, 1, +1),     # 2 - C\n",
    "              (-2, -3, -1),   # 3 - D\n",
    "              (0, -1, -1),    # 4 - E\n",
    "              (2, -3, -1),    # 5 - F\n",
    "              ])\n",
    "\n",
    "\n",
    "def weight_vector(x, y, alpha):\n",
    "    \"\"\"\n",
    "    Given a vector of alphas, compute the primal weight vector w. \n",
    "    The vector w should be returned as an Numpy array. \n",
    "    \"\"\"\n",
    "\n",
    "    w = np.zeros(len(x[0]))\n",
    "    w = sum(alpha[i]*y[i]*x[i] for i in range(len(y)))\n",
    "    # TODO: IMPLEMENT THIS FUNCTION\n",
    "    \n",
    "    return w\n",
    "\n",
    "\n",
    "\n",
    "def find_support(x, y, w, b, tolerance=0.001):\n",
    "    \"\"\"\n",
    "    Given a set of training examples and primal weights, return the indices \n",
    "    of all of the support vectors as a set. \n",
    "    \"\"\"\n",
    "\n",
    "    support = set()\n",
    "    # TODO: IMPLEMENT THIS FUNCTION\n",
    "    support.update([i for i in range(len(y)) if (y[i]*(w.dot(x[i]) + b) == 1)])\n",
    "    return support\n",
    "\n",
    "\n",
    "\n",
    "def find_slack(x, y, w, b):\n",
    "    \"\"\"\n",
    "    Given a set of training examples and primal weights, return the indices \n",
    "    of all examples with nonzero slack as a set.  \n",
    "    \"\"\"\n",
    "\n",
    "    slack = set()\n",
    "    # TODO: IMPLEMENT THIS FUNCTION\n",
    "    slack.update([i for i in range(len(y)) if (y[i]*(w.dot(x[i]) + b) < 1)])\n",
    "    return slack\n",
    "\n",
    "\n"
   ]
  },
  {
   "cell_type": "code",
   "execution_count": 5,
   "metadata": {
    "collapsed": true
   },
   "outputs": [],
   "source": [
    "class Numbers:\n",
    "    \"\"\"\n",
    "    Class to store MNIST data\n",
    "    \"\"\"\n",
    "\n",
    "    def __init__(self, location):\n",
    "        # You shouldn't have to modify this class, but you can if\n",
    "        # you'd like.\n",
    "\n",
    "        import cPickle, gzip\n",
    "\n",
    "        # Load the dataset\n",
    "        f = gzip.open(location, 'rb')\n",
    "        train_set, valid_set, test_set = cPickle.load(f)\n",
    "\n",
    "        self.train_x, self.train_y = train_set\n",
    "        self.test_x, self.test_y = valid_set"
   ]
  },
  {
   "cell_type": "code",
   "execution_count": 15,
   "metadata": {
    "collapsed": true
   },
   "outputs": [],
   "source": [
    "class ThreesAndEights:\n",
    "    \"\"\"\n",
    "    Class to store MNIST data\n",
    "    \"\"\"\n",
    "\n",
    "    def __init__(self, location):\n",
    "        # You shouldn't have to modify this class, but you can if\n",
    "        # you'd like.\n",
    "\n",
    "        import cPickle, gzip\n",
    "\n",
    "        # Load the dataset\n",
    "        f = gzip.open(location, 'rb')\n",
    "\n",
    "        train_set, valid_set, test_set = cPickle.load(f)\n",
    "\n",
    "        self.x_train = train_set[0][np.where(np.logical_or( train_set[1]==3, train_set[1] == 8))[0],:]\n",
    "        self.y_train = train_set[1][np.where(np.logical_or( train_set[1]==3, train_set[1] == 8))[0]]\n",
    "\n",
    "        shuff = np.arange(self.x_train.shape[0])\n",
    "        np.random.shuffle(shuff)\n",
    "        self.x_train = self.x_train[shuff,:]\n",
    "        self.y_train = self.y_train[shuff]\n",
    "\n",
    "        self.x_valid = valid_set[0][np.where(np.logical_or( valid_set[1]==3, valid_set[1] == 8))[0],:]\n",
    "        self.y_valid = valid_set[1][np.where(np.logical_or( valid_set[1]==3, valid_set[1] == 8))[0]]\n",
    "\n",
    "        self.x_test  = test_set[0][np.where(np.logical_or( test_set[1]==3, test_set[1] == 8))[0],:]\n",
    "        self.y_test  = test_set[1][np.where(np.logical_or( test_set[1]==3, test_set[1] == 8))[0]]\n",
    "        \n",
    "        f.close()"
   ]
  },
  {
   "cell_type": "code",
   "execution_count": 22,
   "metadata": {
    "collapsed": true
   },
   "outputs": [],
   "source": [
    "def mnist_digit_show(flatimage, outname=None):\n",
    "\n",
    "    import matplotlib.pyplot as plt\n",
    "\n",
    "    image = np.reshape(flatimage, (-1,28))\n",
    "\n",
    "    plt.matshow(image, cmap=plt.cm.binary)\n",
    "    plt.xticks([])\n",
    "    plt.yticks([])\n",
    "    if outname: \n",
    "        plt.savefig(outname)\n",
    "    else:\n",
    "        plt.show()"
   ]
  },
  {
   "cell_type": "code",
   "execution_count": 45,
   "metadata": {
    "collapsed": true
   },
   "outputs": [],
   "source": [
    "from sklearn import svm\n",
    "from sklearn.model_selection import GridSearchCV\n",
    "from sklearn.metrics import classification_report\n",
    "\n",
    "data = ThreesAndEights(\"../data/mnist.pkl.gz\")\n"
   ]
  },
  {
   "cell_type": "code",
   "execution_count": 43,
   "metadata": {
    "collapsed": false
   },
   "outputs": [],
   "source": [
    "scale = .20\n",
    "train_len = int(.2*len(data.x_train))\n",
    "test_len = int(.2*len(data.x_test))\n",
    "x_train = data.x_train[:int(train_len*.8)]\n",
    "y_train = data.y_train[:int(train_len*.8)]\n",
    "holdout_x = data.x_train[int(train_len*.8):]\n",
    "holdout_y = data.y_train[int(train_len*.8):]\n",
    "\n",
    "x_test = data.x_test[:test_len]\n",
    "y_test = data.y_test[:test_len]"
   ]
  },
  {
   "cell_type": "code",
   "execution_count": 29,
   "metadata": {
    "collapsed": false
   },
   "outputs": [
    {
     "data": {
      "text/plain": [
       "SVC(C=1.0, cache_size=200, class_weight=None, coef0=0.0,\n",
       "  decision_function_shape=None, degree=3, gamma='auto', kernel='poly',\n",
       "  max_iter=-1, probability=False, random_state=None, shrinking=True,\n",
       "  tol=0.001, verbose=False)"
      ]
     },
     "execution_count": 29,
     "metadata": {},
     "output_type": "execute_result"
    }
   ],
   "source": [
    "\n",
    "lin_clf = svm.SVC(kernel = \"linear\", degree = 1)\n",
    "lin_clf.fit(train_x,train_y)\n"
   ]
  },
  {
   "cell_type": "code",
   "execution_count": 46,
   "metadata": {
    "collapsed": false
   },
   "outputs": [
    {
     "name": "stdout",
     "output_type": "stream",
     "text": [
      "# Tuning hyper-parameters for precision\n",
      "()\n",
      "Best parameters set found on development set:\n",
      "()\n",
      "{'kernel': 'poly', 'C': 100, 'degree': 2}\n",
      "()\n",
      "Grid scores on development set:\n",
      "()\n",
      "0.942 (+/-0.026) for {'kernel': 'linear', 'C': 1, 'degree': 1}\n",
      "0.941 (+/-0.028) for {'kernel': 'linear', 'C': 5, 'degree': 1}\n",
      "0.941 (+/-0.028) for {'kernel': 'linear', 'C': 10, 'degree': 1}\n",
      "0.941 (+/-0.028) for {'kernel': 'linear', 'C': 20, 'degree': 1}\n",
      "0.941 (+/-0.028) for {'kernel': 'linear', 'C': 50, 'degree': 1}\n",
      "0.941 (+/-0.028) for {'kernel': 'linear', 'C': 100, 'degree': 1}\n",
      "0.904 (+/-0.019) for {'kernel': 'poly', 'C': 1, 'degree': 2}\n",
      "0.250 (+/-0.001) for {'kernel': 'poly', 'C': 1, 'degree': 3}\n",
      "0.250 (+/-0.001) for {'kernel': 'poly', 'C': 1, 'degree': 4}\n",
      "0.250 (+/-0.001) for {'kernel': 'poly', 'C': 1, 'degree': 5}\n",
      "0.945 (+/-0.024) for {'kernel': 'poly', 'C': 5, 'degree': 2}\n",
      "0.840 (+/-0.018) for {'kernel': 'poly', 'C': 5, 'degree': 3}\n",
      "0.250 (+/-0.001) for {'kernel': 'poly', 'C': 5, 'degree': 4}\n",
      "0.250 (+/-0.001) for {'kernel': 'poly', 'C': 5, 'degree': 5}\n",
      "0.960 (+/-0.010) for {'kernel': 'poly', 'C': 10, 'degree': 2}\n",
      "0.878 (+/-0.024) for {'kernel': 'poly', 'C': 10, 'degree': 3}\n",
      "0.753 (+/-0.002) for {'kernel': 'poly', 'C': 10, 'degree': 4}\n",
      "0.250 (+/-0.001) for {'kernel': 'poly', 'C': 10, 'degree': 5}\n",
      "0.967 (+/-0.017) for {'kernel': 'poly', 'C': 20, 'degree': 2}\n",
      "0.909 (+/-0.023) for {'kernel': 'poly', 'C': 20, 'degree': 3}\n",
      "0.779 (+/-0.014) for {'kernel': 'poly', 'C': 20, 'degree': 4}\n",
      "0.250 (+/-0.001) for {'kernel': 'poly', 'C': 20, 'degree': 5}\n",
      "0.975 (+/-0.013) for {'kernel': 'poly', 'C': 50, 'degree': 2}\n",
      "0.938 (+/-0.026) for {'kernel': 'poly', 'C': 50, 'degree': 3}\n",
      "0.815 (+/-0.028) for {'kernel': 'poly', 'C': 50, 'degree': 4}\n",
      "0.651 (+/-0.401) for {'kernel': 'poly', 'C': 50, 'degree': 5}\n",
      "0.976 (+/-0.014) for {'kernel': 'poly', 'C': 100, 'degree': 2}\n",
      "0.955 (+/-0.012) for {'kernel': 'poly', 'C': 100, 'degree': 3}\n",
      "0.857 (+/-0.025) for {'kernel': 'poly', 'C': 100, 'degree': 4}\n",
      "0.760 (+/-0.007) for {'kernel': 'poly', 'C': 100, 'degree': 5}\n",
      "0.908 (+/-0.033) for {'kernel': 'rbf', 'C': 1, 'gamma': 0.0001}\n",
      "0.250 (+/-0.001) for {'kernel': 'rbf', 'C': 1, 'gamma': 1e-06}\n",
      "0.946 (+/-0.017) for {'kernel': 'rbf', 'C': 5, 'gamma': 0.0001}\n",
      "0.250 (+/-0.001) for {'kernel': 'rbf', 'C': 5, 'gamma': 1e-06}\n",
      "0.955 (+/-0.013) for {'kernel': 'rbf', 'C': 10, 'gamma': 0.0001}\n",
      "0.250 (+/-0.001) for {'kernel': 'rbf', 'C': 10, 'gamma': 1e-06}\n",
      "0.959 (+/-0.011) for {'kernel': 'rbf', 'C': 20, 'gamma': 0.0001}\n",
      "0.250 (+/-0.001) for {'kernel': 'rbf', 'C': 20, 'gamma': 1e-06}\n",
      "0.962 (+/-0.011) for {'kernel': 'rbf', 'C': 50, 'gamma': 0.0001}\n",
      "0.890 (+/-0.026) for {'kernel': 'rbf', 'C': 50, 'gamma': 1e-06}\n",
      "0.958 (+/-0.018) for {'kernel': 'rbf', 'C': 100, 'gamma': 0.0001}\n",
      "0.908 (+/-0.033) for {'kernel': 'rbf', 'C': 100, 'gamma': 1e-06}\n",
      "()\n",
      "Detailed classification report:\n",
      "()\n",
      "The model is trained on the full development set.\n",
      "The scores are computed on the full evaluation set.\n",
      "()\n",
      "             precision    recall  f1-score   support\n",
      "\n",
      "          3       0.96      0.99      0.97       204\n",
      "          8       0.98      0.96      0.97       192\n",
      "\n",
      "avg / total       0.97      0.97      0.97       396\n",
      "\n",
      "()\n",
      "# Tuning hyper-parameters for recall\n",
      "()\n",
      "Best parameters set found on development set:\n",
      "()\n",
      "{'kernel': 'poly', 'C': 100, 'degree': 2}\n",
      "()\n",
      "Grid scores on development set:\n",
      "()\n",
      "0.942 (+/-0.026) for {'kernel': 'linear', 'C': 1, 'degree': 1}\n",
      "0.941 (+/-0.027) for {'kernel': 'linear', 'C': 5, 'degree': 1}\n",
      "0.941 (+/-0.027) for {'kernel': 'linear', 'C': 10, 'degree': 1}\n",
      "0.941 (+/-0.027) for {'kernel': 'linear', 'C': 20, 'degree': 1}\n",
      "0.941 (+/-0.027) for {'kernel': 'linear', 'C': 50, 'degree': 1}\n",
      "0.941 (+/-0.027) for {'kernel': 'linear', 'C': 100, 'degree': 1}\n",
      "0.895 (+/-0.022) for {'kernel': 'poly', 'C': 1, 'degree': 2}\n",
      "0.500 (+/-0.000) for {'kernel': 'poly', 'C': 1, 'degree': 3}\n",
      "0.500 (+/-0.000) for {'kernel': 'poly', 'C': 1, 'degree': 4}\n",
      "0.500 (+/-0.000) for {'kernel': 'poly', 'C': 1, 'degree': 5}\n",
      "0.943 (+/-0.025) for {'kernel': 'poly', 'C': 5, 'degree': 2}\n",
      "0.782 (+/-0.029) for {'kernel': 'poly', 'C': 5, 'degree': 3}\n",
      "0.500 (+/-0.000) for {'kernel': 'poly', 'C': 5, 'degree': 4}\n",
      "0.500 (+/-0.000) for {'kernel': 'poly', 'C': 5, 'degree': 5}\n",
      "0.960 (+/-0.009) for {'kernel': 'poly', 'C': 10, 'degree': 2}\n",
      "0.855 (+/-0.033) for {'kernel': 'poly', 'C': 10, 'degree': 3}\n",
      "0.509 (+/-0.009) for {'kernel': 'poly', 'C': 10, 'degree': 4}\n",
      "0.500 (+/-0.000) for {'kernel': 'poly', 'C': 10, 'degree': 5}\n",
      "0.966 (+/-0.017) for {'kernel': 'poly', 'C': 20, 'degree': 2}\n",
      "0.897 (+/-0.030) for {'kernel': 'poly', 'C': 20, 'degree': 3}\n",
      "0.610 (+/-0.028) for {'kernel': 'poly', 'C': 20, 'degree': 4}\n",
      "0.500 (+/-0.000) for {'kernel': 'poly', 'C': 20, 'degree': 5}\n",
      "0.974 (+/-0.012) for {'kernel': 'poly', 'C': 50, 'degree': 2}\n",
      "0.934 (+/-0.030) for {'kernel': 'poly', 'C': 50, 'degree': 3}\n",
      "0.727 (+/-0.050) for {'kernel': 'poly', 'C': 50, 'degree': 4}\n",
      "0.503 (+/-0.004) for {'kernel': 'poly', 'C': 50, 'degree': 5}\n",
      "0.976 (+/-0.014) for {'kernel': 'poly', 'C': 100, 'degree': 2}\n",
      "0.953 (+/-0.014) for {'kernel': 'poly', 'C': 100, 'degree': 3}\n",
      "0.815 (+/-0.042) for {'kernel': 'poly', 'C': 100, 'degree': 4}\n",
      "0.538 (+/-0.026) for {'kernel': 'poly', 'C': 100, 'degree': 5}\n",
      "0.908 (+/-0.032) for {'kernel': 'rbf', 'C': 1, 'gamma': 0.0001}\n",
      "0.500 (+/-0.000) for {'kernel': 'rbf', 'C': 1, 'gamma': 1e-06}\n",
      "0.946 (+/-0.017) for {'kernel': 'rbf', 'C': 5, 'gamma': 0.0001}\n",
      "0.500 (+/-0.000) for {'kernel': 'rbf', 'C': 5, 'gamma': 1e-06}\n",
      "0.955 (+/-0.013) for {'kernel': 'rbf', 'C': 10, 'gamma': 0.0001}\n",
      "0.500 (+/-0.000) for {'kernel': 'rbf', 'C': 10, 'gamma': 1e-06}\n",
      "0.959 (+/-0.011) for {'kernel': 'rbf', 'C': 20, 'gamma': 0.0001}\n",
      "0.500 (+/-0.000) for {'kernel': 'rbf', 'C': 20, 'gamma': 1e-06}\n",
      "0.961 (+/-0.012) for {'kernel': 'rbf', 'C': 50, 'gamma': 0.0001}\n",
      "0.886 (+/-0.026) for {'kernel': 'rbf', 'C': 50, 'gamma': 1e-06}\n",
      "0.957 (+/-0.018) for {'kernel': 'rbf', 'C': 100, 'gamma': 0.0001}\n",
      "0.908 (+/-0.032) for {'kernel': 'rbf', 'C': 100, 'gamma': 1e-06}\n",
      "()\n",
      "Detailed classification report:\n",
      "()\n",
      "The model is trained on the full development set.\n",
      "The scores are computed on the full evaluation set.\n",
      "()\n",
      "             precision    recall  f1-score   support\n",
      "\n",
      "          3       0.96      0.99      0.97       204\n",
      "          8       0.98      0.96      0.97       192\n",
      "\n",
      "avg / total       0.97      0.97      0.97       396\n",
      "\n",
      "()\n"
     ]
    }
   ],
   "source": [
    "params_grid = [\n",
    "    {'C': [1,5,10,20,50,100], 'kernel': ['linear'], 'degree':[1]},\n",
    "    {'C': [1,5,10,20,50,100], 'kernel': ['poly'], 'degree':[2,3,4,5]},\n",
    "    {'C': [1,5,10,20,50,100], 'kernel': ['rbf'], 'gamma': [.0001,.000001]}\n",
    "]\n",
    "\n",
    "# clf = GridSearchCV(svm.SVC(C=1), params_grid, cv=5, scoring='%s_macro' % score)\n",
    "# clf.fit(x_train, y_train)\n",
    "\n",
    "scores = ['precision', 'recall']\n",
    "\n",
    "for score in scores:\n",
    "    print(\"# Tuning hyper-parameters for %s\" % score)\n",
    "    print()\n",
    "\n",
    "    clf = GridSearchCV(svm.SVC(C=1), params_grid, cv=5,scoring='%s_macro' % score)\n",
    "    clf.fit(x_train, y_train)\n",
    "\n",
    "    print(\"Best parameters set found on development set:\")\n",
    "    print()\n",
    "    print(clf.best_params_)\n",
    "    print()\n",
    "    print(\"Grid scores on development set:\")\n",
    "    print()\n",
    "    means = clf.cv_results_['mean_test_score']\n",
    "    stds = clf.cv_results_['std_test_score']\n",
    "    for mean, std, params in zip(means, stds, clf.cv_results_['params']):\n",
    "        print(\"%0.3f (+/-%0.03f) for %r\"\n",
    "              % (mean, std * 2, params))\n",
    "    print()\n",
    "\n",
    "    print(\"Detailed classification report:\")\n",
    "    print()\n",
    "    print(\"The model is trained on the full development set.\")\n",
    "    print(\"The scores are computed on the full evaluation set.\")\n",
    "    print()\n",
    "    y_true, y_pred = y_test, clf.predict(x_test)\n",
    "    print(classification_report(y_true, y_pred))\n",
    "    print()"
   ]
  },
  {
   "cell_type": "code",
   "execution_count": 59,
   "metadata": {
    "collapsed": false
   },
   "outputs": [
    {
     "name": "stdout",
     "output_type": "stream",
     "text": [
      "1: {'kernel': 'poly', 'C': 100, 'degree': 2}\n",
      "2: {'kernel': 'poly', 'C': 50, 'degree': 2}\n",
      "3: {'kernel': 'poly', 'C': 20, 'degree': 2}\n",
      "4: {'kernel': 'rbf', 'C': 50, 'gamma': 0.0001}\n",
      "5: {'kernel': 'poly', 'C': 10, 'degree': 2}\n",
      "6: {'kernel': 'rbf', 'C': 20, 'gamma': 0.0001}\n",
      "7: {'kernel': 'rbf', 'C': 100, 'gamma': 0.0001}\n",
      "8: {'kernel': 'rbf', 'C': 10, 'gamma': 0.0001}\n",
      "9: {'kernel': 'poly', 'C': 100, 'degree': 3}\n",
      "10: {'kernel': 'rbf', 'C': 5, 'gamma': 0.0001}\n",
      "11: {'kernel': 'poly', 'C': 5, 'degree': 2}\n",
      "12: {'kernel': 'linear', 'C': 1, 'degree': 1}\n",
      "13: {'kernel': 'linear', 'C': 50, 'degree': 1}\n",
      "14: {'kernel': 'linear', 'C': 20, 'degree': 1}\n",
      "15: {'kernel': 'linear', 'C': 10, 'degree': 1}\n",
      "16: {'kernel': 'linear', 'C': 5, 'degree': 1}\n",
      "17: {'kernel': 'linear', 'C': 100, 'degree': 1}\n",
      "18: {'kernel': 'poly', 'C': 50, 'degree': 3}\n",
      "19: {'kernel': 'rbf', 'C': 1, 'gamma': 0.0001}\n",
      "20: {'kernel': 'rbf', 'C': 100, 'gamma': 1e-06}\n",
      "21: {'kernel': 'poly', 'C': 20, 'degree': 3}\n",
      "22: {'kernel': 'poly', 'C': 1, 'degree': 2}\n",
      "23: {'kernel': 'rbf', 'C': 50, 'gamma': 1e-06}\n",
      "24: {'kernel': 'poly', 'C': 10, 'degree': 3}\n",
      "25: {'kernel': 'poly', 'C': 100, 'degree': 4}\n",
      "26: {'kernel': 'poly', 'C': 5, 'degree': 3}\n",
      "27: {'kernel': 'poly', 'C': 50, 'degree': 4}\n",
      "28: {'kernel': 'poly', 'C': 20, 'degree': 4}\n",
      "29: {'kernel': 'poly', 'C': 100, 'degree': 5}\n",
      "30: {'kernel': 'poly', 'C': 10, 'degree': 4}\n",
      "31: {'kernel': 'poly', 'C': 50, 'degree': 5}\n",
      "32: {'kernel': 'poly', 'C': 5, 'degree': 5}\n",
      "33: {'kernel': 'rbf', 'C': 1, 'gamma': 1e-06}\n",
      "34: {'kernel': 'poly', 'C': 1, 'degree': 5}\n",
      "35: {'kernel': 'rbf', 'C': 5, 'gamma': 1e-06}\n",
      "36: {'kernel': 'poly', 'C': 1, 'degree': 4}\n",
      "37: {'kernel': 'rbf', 'C': 10, 'gamma': 1e-06}\n",
      "38: {'kernel': 'poly', 'C': 1, 'degree': 3}\n",
      "39: {'kernel': 'rbf', 'C': 20, 'gamma': 1e-06}\n",
      "40: {'kernel': 'poly', 'C': 20, 'degree': 5}\n",
      "41: {'kernel': 'poly', 'C': 5, 'degree': 4}\n",
      "42: {'kernel': 'poly', 'C': 10, 'degree': 5}\n"
     ]
    }
   ],
   "source": [
    "indices = clf.cv_results_[\"rank_test_score\"].argsort()\n",
    "for i in range(len(indices)):\n",
    "    print(str(i+1) + \": \" + str(clf.cv_results_[\"params\"][indices[i]]))\n",
    "\n"
   ]
  },
  {
   "cell_type": "code",
   "execution_count": 75,
   "metadata": {
    "collapsed": false
   },
   "outputs": [
    {
     "name": "stdout",
     "output_type": "stream",
     "text": [
      "             precision    recall  f1-score   support\n",
      "\n",
      "          3       0.96      0.99      0.97       204\n",
      "          8       0.98      0.96      0.97       192\n",
      "\n",
      "avg / total       0.97      0.97      0.97       396\n",
      "\n",
      "             precision    recall  f1-score   support\n",
      "\n",
      "          3       0.95      0.98      0.96       204\n",
      "          8       0.97      0.94      0.96       192\n",
      "\n",
      "avg / total       0.96      0.96      0.96       396\n",
      "\n",
      "             precision    recall  f1-score   support\n",
      "\n",
      "          3       0.92      0.96      0.94       204\n",
      "          8       0.95      0.92      0.93       192\n",
      "\n",
      "avg / total       0.94      0.94      0.94       396\n",
      "\n"
     ]
    },
    {
     "data": {
      "text/plain": [
       "array([88, 84], dtype=int32)"
      ]
     },
     "execution_count": 75,
     "metadata": {},
     "output_type": "execute_result"
    }
   ],
   "source": [
    "# 1: {'kernel': 'poly', 'C': 100, 'degree': 2}\n",
    "clf1 = svm.SVC(kernel = \"poly\", C = 100, degree = 2)\n",
    "clf1.fit(x_train, y_train)\n",
    "y_true, y_pred = y_test, clf1.predict(x_test)\n",
    "print(classification_report(y_true, y_pred))\n",
    "\n",
    "# 4: {'kernel': 'rbf', 'C': 50, 'gamma': 0.0001}\n",
    "clf2 = svm.SVC(kernel = \"rbf\", C = 50, degree = 2)\n",
    "clf2.fit(x_train, y_train)\n",
    "y_true, y_pred = y_test, clf2.predict(x_test)\n",
    "print(classification_report(y_true, y_pred))\n",
    "\n",
    "# 12: {'kernel': 'linear', 'C': 1, 'degree': 1}\n",
    "clf3 = svm.SVC(kernel = \"linear\", C = 20, degree = 1)\n",
    "clf3.fit(x_train, y_train)\n",
    "y_true, y_pred = y_test, clf3.predict(x_test)\n",
    "print(classification_report(y_true, y_pred))\n",
    "clf3.n_support_"
   ]
  },
  {
   "cell_type": "code",
   "execution_count": 79,
   "metadata": {
    "collapsed": false
   },
   "outputs": [
    {
     "data": {
      "image/png": "[encoded data removed]",
      "text/plain": [
       "<matplotlib.figure.Figure at 0x7f12abc79ed0>"
      ]
     },
     "metadata": {},
     "output_type": "display_data"
    },
    {
     "data": {
      "image/png": "[encoded data removed]",
      "text/plain": [
       "<matplotlib.figure.Figure at 0x7f12ac04edd0>"
      ]
     },
     "metadata": {},
     "output_type": "display_data"
    }
   ],
   "source": [
    "mnist_digit_show(clf3.support_vectors_[0:5,:])\n",
    "mnist_digit_show(clf3.support_vectors_[88:93,:])\n",
    "mnist_digit_show(clf3.support_vectors_[0:5,:], \"mnistfig1.png\")\n",
    "mnist_digit_show(clf3.support_vectors_[88:93,:], \"mnistfig2.png\")"
   ]
  },
  {
   "cell_type": "code",
   "execution_count": 69,
   "metadata": {
    "collapsed": false
   },
   "outputs": [
    {
     "data": {
      "image/png": "[encoded data removed]",
      "text/plain": [
       "<matplotlib.figure.Figure at 0x7f12ac1143d0>"
      ]
     },
     "metadata": {},
     "output_type": "display_data"
    },
    {
     "data": {
      "image/png": "[encoded data removed]",
      "text/plain": [
       "<matplotlib.figure.Figure at 0x7f12abfa5050>"
      ]
     },
     "metadata": {},
     "output_type": "display_data"
    }
   ],
   "source": [
    "# Display in on screen  \n",
    "mnist_digit_show(data.x_train[ 0,:])\n",
    "mnist_digit_show(data.x_train[ 1,:])"
   ]
  },
  {
   "cell_type": "code",
   "execution_count": null,
   "metadata": {
    "collapsed": true
   },
   "outputs": [],
   "source": [
    "# Plot image to file \n",
    "mnist_digit_show(data.x_train[0,:], \"mnistfig1.png\")\n",
    "mnist_digit_show(data.x_train[1,:], \"mnistfig2.png\")"
   ]
  }
 ],
 "metadata": {
  "anaconda-cloud": {},
  "kernelspec": {
   "display_name": "Python [python2_7]",
   "language": "python",
   "name": "Python [python2_7]"
  },
  "language_info": {
   "codemirror_mode": {
    "name": "ipython",
    "version": 2
   },
   "file_extension": ".py",
   "mimetype": "text/x-python",
   "name": "python",
   "nbconvert_exporter": "python",
   "pygments_lexer": "ipython2",
   "version": "2.7.13"
  }
 },
 "nbformat": 4,
 "nbformat_minor": 0
}
