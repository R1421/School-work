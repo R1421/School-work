{
 "cells": [
  {
   "cell_type": "code",
   "execution_count": 2,
   "metadata": {
    "collapsed": true
   },
   "outputs": [],
   "source": [
    "import numpy as np \n",
    "\n",
    "kINSP = np.array([(1, 8, +1),\n",
    "               (7, 2, -1),\n",
    "               (6, -1, -1),\n",
    "               (-5, 0, +1),\n",
    "               (-5, 1, -1),\n",
    "               (-5, 2, +1),\n",
    "               (6, 3, +1),\n",
    "               (6, 1, -1),\n",
    "               (5, 2, -1)])\n",
    "\n",
    "kSEP = np.array([(-2, 2, +1),    # 0 - A\n",
    "              (0, 4, +1),     # 1 - B\n",
    "              (2, 1, +1),     # 2 - C\n",
    "              (-2, -3, -1),   # 3 - D\n",
    "              (0, -1, -1),    # 4 - E\n",
    "              (2, -3, -1),    # 5 - F\n",
    "              ])\n",
    "\n",
    "\n",
    "def weight_vector(x, y, alpha):\n",
    "    \"\"\"\n",
    "    Given a vector of alphas, compute the primal weight vector w. \n",
    "    The vector w should be returned as an Numpy array. \n",
    "    \"\"\"\n",
    "\n",
    "    w = np.zeros(len(x[0]))\n",
    "    w = sum(alpha[i]*y[i]*x[i] for i in range(len(y)))\n",
    "    # TODO: IMPLEMENT THIS FUNCTION\n",
    "    \n",
    "    return w\n",
    "\n",
    "\n",
    "\n",
    "def find_support(x, y, w, b, tolerance=0.001):\n",
    "    \"\"\"\n",
    "    Given a set of training examples and primal weights, return the indices \n",
    "    of all of the support vectors as a set. \n",
    "    \"\"\"\n",
    "\n",
    "    support = set()\n",
    "    # TODO: IMPLEMENT THIS FUNCTION\n",
    "    support.update([i for i in range(len(y)) if (y[i]*(w.dot(x[i]) + b) == 1)])\n",
    "    return support\n",
    "\n",
    "\n",
    "\n",
    "def find_slack(x, y, w, b):\n",
    "    \"\"\"\n",
    "    Given a set of training examples and primal weights, return the indices \n",
    "    of all examples with nonzero slack as a set.  \n",
    "    \"\"\"\n",
    "\n",
    "    slack = set()\n",
    "    # TODO: IMPLEMENT THIS FUNCTION\n",
    "    slack.update([i for i in range(len(y)) if (y[i]*(w.dot(x[i]) + b) < 1)])\n",
    "    return slack\n",
    "\n",
    "\n"
   ]
  },
  {
   "cell_type": "code",
   "execution_count": 5,
   "metadata": {
    "collapsed": true
   },
   "outputs": [],
   "source": [
    "class Numbers:\n",
    "    \"\"\"\n",
    "    Class to store MNIST data\n",
    "    \"\"\"\n",
    "\n",
    "    def __init__(self, location):\n",
    "        # You shouldn't have to modify this class, but you can if\n",
    "        # you'd like.\n",
    "\n",
    "        import cPickle, gzip\n",
    "\n",
    "        # Load the dataset\n",
    "        f = gzip.open(location, 'rb')\n",
    "        train_set, valid_set, test_set = cPickle.load(f)\n",
    "\n",
    "        self.train_x, self.train_y = train_set\n",
    "        self.test_x, self.test_y = valid_set"
   ]
  },
  {
   "cell_type": "code",
   "execution_count": null,
   "metadata": {
    "collapsed": true
   },
   "outputs": [],
   "source": [
    "class ThreesAndEights:\n",
    "    \"\"\"\n",
    "    Class to store MNIST data\n",
    "    \"\"\"\n",
    "\n",
    "    def __init__(self, location):\n",
    "        # You shouldn't have to modify this class, but you can if\n",
    "        # you'd like.\n",
    "\t\t\n",
    "\t\timport cPickle, gzip\n",
    "\n",
    "        # Load the dataset\n",
    "\t\tf = gzip.open(location, 'rb')\n",
    "\n",
    "\t\ttrain_set, valid_set, test_set = cPickle.load(f)\n",
    "\n",
    "\t\tself.x_train = train_set[0][np.where(np.logical_or( train_set[1]==3, train_set[1] == 8))[0],:]\n",
    "\t\tself.y_train = train_set[1][np.where(np.logical_or( train_set[1]==3, train_set[1] == 8))[0]]\n",
    "\n",
    "\t\tshuff = np.arange(self.x_train.shape[0])\n",
    "\t\tnp.random.shuffle(shuff)\n",
    "\t\tself.x_train = self.x_train[shuff,:]\n",
    "\t\tself.y_train = self.y_train[shuff]\n",
    "\n",
    "\t\tself.x_valid = valid_set[0][np.where(np.logical_or( valid_set[1]==3, valid_set[1] == 8))[0],:]\n",
    "\t\tself.y_valid = valid_set[1][np.where(np.logical_or( valid_set[1]==3, valid_set[1] == 8))[0]]\n",
    "\t\t\n",
    "\t\tself.x_test  = test_set[0][np.where(np.logical_or( test_set[1]==3, test_set[1] == 8))[0],:]\n",
    "\t\tself.y_test  = test_set[1][np.where(np.logical_or( test_set[1]==3, test_set[1] == 8))[0]]"
   ]
  },
  {
   "cell_type": "code",
   "execution_count": 6,
   "metadata": {
    "collapsed": true
   },
   "outputs": [],
   "source": [
    "from sklearn import svm\n",
    "\n",
    "data = Numbers(\"../data/mnist.pkl.gz\")\n"
   ]
  },
  {
   "cell_type": "code",
   "execution_count": 10,
   "metadata": {
    "collapsed": false
   },
   "outputs": [],
   "source": [
    "scale = .20\n",
    "train_len = int(.2*len(data.train_x))\n",
    "test_len = int(.2*len(data.test_x))\n",
    "train_x = data.train_x[:int(train_len*.8)]\n",
    "train_y = data.train_y[:int(train_len*.8)]\n",
    "holdout_x = data.train_x[int(train_len*.8):]\n",
    "holdout_y = data.train_x[int(train_len*.8):]\n",
    "\n",
    "test_x = data.test_x[:test_len]\n",
    "test_y = data.test_y[:test_len]"
   ]
  },
  {
   "cell_type": "code",
   "execution_count": 14,
   "metadata": {
    "collapsed": false
   },
   "outputs": [
    {
     "data": {
      "text/plain": [
       "SVC(C=1.0, cache_size=200, class_weight=None, coef0=0.0,\n",
       "  decision_function_shape=None, degree=3, gamma='auto', kernel='linear',\n",
       "  max_iter=-1, probability=False, random_state=None, shrinking=True,\n",
       "  tol=0.001, verbose=False)"
      ]
     },
     "execution_count": 14,
     "metadata": {},
     "output_type": "execute_result"
    }
   ],
   "source": [
    "\n",
    "lin_clf = svm.SVC(kernel = \"linear\")\n",
    "lin_clf.fit(train_x,train_y)\n"
   ]
  }
 ],
 "metadata": {
  "anaconda-cloud": {},
  "kernelspec": {
   "display_name": "Python [python2_7]",
   "language": "python",
   "name": "Python [python2_7]"
  },
  "language_info": {
   "codemirror_mode": {
    "name": "ipython",
    "version": 2
   },
   "file_extension": ".py",
   "mimetype": "text/x-python",
   "name": "python",
   "nbconvert_exporter": "python",
   "pygments_lexer": "ipython2",
   "version": "2.7.13"
  }
 },
 "nbformat": 4,
 "nbformat_minor": 0
}
