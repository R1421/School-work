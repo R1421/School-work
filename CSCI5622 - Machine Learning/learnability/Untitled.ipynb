{
 "cells": [
  {
   "cell_type": "code",
   "execution_count": 76,
   "metadata": {
    "collapsed": true
   },
   "outputs": [],
   "source": [
    "import numpy as np"
   ]
  },
  {
   "cell_type": "code",
   "execution_count": 119,
   "metadata": {
    "collapsed": false
   },
   "outputs": [],
   "source": [
    "def classify(x):\n",
    "    if(x > 0):\n",
    "        return 1\n",
    "    else:\n",
    "        return -1\n",
    "    \n",
    "def toLabel(x):\n",
    "    if(x == True): return 1\n",
    "    else: return -1\n",
    "    \n",
    "def find_w(data):\n",
    "    #datap = [ (1-toLabel(data[i][1]))/2 *10**(i+1) for i in range(len(data)) ]\n",
    "    datap = [ (1-toLabel(data[i][1]))/2 *2**(data[i][0]) for i in range(len(data)) ]\n",
    "\n",
    "    \n",
    "    #print(datap)\n",
    "    return 1.0 + sum(datap)\n",
    "    "
   ]
  },
  {
   "cell_type": "code",
   "execution_count": 143,
   "metadata": {
    "collapsed": false
   },
   "outputs": [
    {
     "name": "stdout",
     "output_type": "stream",
     "text": [
      "0.5\n",
      "0.25\n",
      "0.0625\n",
      "0.03125\n",
      "0.0001220703125\n",
      "6.103515625e-05\n",
      "1.90734863281e-06\n",
      "\n",
      "0.843935012817\n",
      "\n",
      "1.68787002563\n",
      "3.37574005127\n",
      "13.5029602051\n",
      "27.0059204102\n",
      "6913.515625\n",
      "13827.03125\n",
      "442465.0\n"
     ]
    }
   ],
   "source": [
    "#x = [10**-i for i in range(1,8)]\n",
    "x = [1.,2.,4.,5.,13.,14.,19.]\n",
    "data = [2**-(x[i]) for i in range(len(x))]\n",
    "data\n",
    "for i in range(len(data)):\n",
    "    print(data[i])\n",
    "\n",
    "print(\"\\n\" + str(sum(data)) + \"\\n\")\n",
    "\n",
    "for i in range(len(data)):\n",
    "    print(sum(data)*2**x[i])"
   ]
  },
  {
   "cell_type": "code",
   "execution_count": 108,
   "metadata": {
    "collapsed": false
   },
   "outputs": [
    {
     "name": "stdout",
     "output_type": "stream",
     "text": [
      "[1, 2, 3, 4, 5]\n"
     ]
    }
   ],
   "source": [
    "data = [1,2,3,4,5]\n",
    "len(data)\n",
    "print(list(data[i] for i in range(len(data))))"
   ]
  },
  {
   "cell_type": "code",
   "execution_count": 145,
   "metadata": {
    "collapsed": false
   },
   "outputs": [
    {
     "data": {
      "text/plain": [
       "1672894.9464439112"
      ]
     },
     "execution_count": 145,
     "metadata": {},
     "output_type": "execute_result"
    }
   ],
   "source": [
    "kSIMPLE_TRAIN = [(1, False), (2, True), (4, False), (5, True), (13, False),\n",
    "                 (14, True), (19, False)]\n",
    "\n",
    "w = find_w(kSIMPLE_TRAIN)*np.pi\n",
    "w"
   ]
  },
  {
   "cell_type": "code",
   "execution_count": 146,
   "metadata": {
    "collapsed": false
   },
   "outputs": [
    {
     "name": "stdout",
     "output_type": "stream",
     "text": [
      "[-1, 1, -1, 1, -1, 1, -1]\n"
     ]
    }
   ],
   "source": [
    "print(list(classify(np.sin(w*i)) for i in data))\n",
    "#print(classify(np.sin(19*w)))"
   ]
  }
 ],
 "metadata": {
  "kernelspec": {
   "display_name": "Python 2",
   "language": "python",
   "name": "python2"
  },
  "language_info": {
   "codemirror_mode": {
    "name": "ipython",
    "version": 2
   },
   "file_extension": ".py",
   "mimetype": "text/x-python",
   "name": "python",
   "nbconvert_exporter": "python",
   "pygments_lexer": "ipython2",
   "version": "2.7.13"
  }
 },
 "nbformat": 4,
 "nbformat_minor": 2
}
